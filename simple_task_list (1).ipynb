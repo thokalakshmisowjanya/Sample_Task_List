{
  "cells": [
    {
      "cell_type": "code",
      "execution_count": null,
      "metadata": {
        "id": "dSh2-7itJZe3"
      },
      "outputs": [],
      "source": []
    },
    {
      "cell_type": "code",
      "execution_count": null,
      "metadata": {
        "id": "BBUyDbSANmfn"
      },
      "outputs": [],
      "source": [
        "import pandas as pd\n",
        "from sklearn.feature_extraction.text import CountVectorizer\n",
        "from sklearn.naive_bayes import MultinomialNB\n",
        "from sklearn.pipeline import make_pipeline\n",
        "import random"
      ]
    },
    {
      "cell_type": "code",
      "execution_count": null,
      "metadata": {
        "id": "kgIClvrpN8IH"
      },
      "outputs": [],
      "source": [
        "\n",
        "tasks = pd.DataFrame(columns=['description', 'priority'])"
      ]
    },
    {
      "cell_type": "code",
      "source": [
        "from google.colab import files\n",
        "uploaded = files.upload()"
      ],
      "metadata": {
        "colab": {
          "base_uri": "https://localhost:8080/",
          "height": 73
        },
        "id": "BEpWskAy4liC",
        "outputId": "8fa00fbd-f07a-405c-ffcc-9a81aadf7849"
      },
      "execution_count": null,
      "outputs": [
        {
          "output_type": "display_data",
          "data": {
            "text/plain": [
              "<IPython.core.display.HTML object>"
            ],
            "text/html": [
              "\n",
              "     <input type=\"file\" id=\"files-ce189a0d-ca69-4cb8-91a8-19362c4cb3df\" name=\"files[]\" multiple disabled\n",
              "        style=\"border:none\" />\n",
              "     <output id=\"result-ce189a0d-ca69-4cb8-91a8-19362c4cb3df\">\n",
              "      Upload widget is only available when the cell has been executed in the\n",
              "      current browser session. Please rerun this cell to enable.\n",
              "      </output>\n",
              "      <script>// Copyright 2017 Google LLC\n",
              "//\n",
              "// Licensed under the Apache License, Version 2.0 (the \"License\");\n",
              "// you may not use this file except in compliance with the License.\n",
              "// You may obtain a copy of the License at\n",
              "//\n",
              "//      http://www.apache.org/licenses/LICENSE-2.0\n",
              "//\n",
              "// Unless required by applicable law or agreed to in writing, software\n",
              "// distributed under the License is distributed on an \"AS IS\" BASIS,\n",
              "// WITHOUT WARRANTIES OR CONDITIONS OF ANY KIND, either express or implied.\n",
              "// See the License for the specific language governing permissions and\n",
              "// limitations under the License.\n",
              "\n",
              "/**\n",
              " * @fileoverview Helpers for google.colab Python module.\n",
              " */\n",
              "(function(scope) {\n",
              "function span(text, styleAttributes = {}) {\n",
              "  const element = document.createElement('span');\n",
              "  element.textContent = text;\n",
              "  for (const key of Object.keys(styleAttributes)) {\n",
              "    element.style[key] = styleAttributes[key];\n",
              "  }\n",
              "  return element;\n",
              "}\n",
              "\n",
              "// Max number of bytes which will be uploaded at a time.\n",
              "const MAX_PAYLOAD_SIZE = 100 * 1024;\n",
              "\n",
              "function _uploadFiles(inputId, outputId) {\n",
              "  const steps = uploadFilesStep(inputId, outputId);\n",
              "  const outputElement = document.getElementById(outputId);\n",
              "  // Cache steps on the outputElement to make it available for the next call\n",
              "  // to uploadFilesContinue from Python.\n",
              "  outputElement.steps = steps;\n",
              "\n",
              "  return _uploadFilesContinue(outputId);\n",
              "}\n",
              "\n",
              "// This is roughly an async generator (not supported in the browser yet),\n",
              "// where there are multiple asynchronous steps and the Python side is going\n",
              "// to poll for completion of each step.\n",
              "// This uses a Promise to block the python side on completion of each step,\n",
              "// then passes the result of the previous step as the input to the next step.\n",
              "function _uploadFilesContinue(outputId) {\n",
              "  const outputElement = document.getElementById(outputId);\n",
              "  const steps = outputElement.steps;\n",
              "\n",
              "  const next = steps.next(outputElement.lastPromiseValue);\n",
              "  return Promise.resolve(next.value.promise).then((value) => {\n",
              "    // Cache the last promise value to make it available to the next\n",
              "    // step of the generator.\n",
              "    outputElement.lastPromiseValue = value;\n",
              "    return next.value.response;\n",
              "  });\n",
              "}\n",
              "\n",
              "/**\n",
              " * Generator function which is called between each async step of the upload\n",
              " * process.\n",
              " * @param {string} inputId Element ID of the input file picker element.\n",
              " * @param {string} outputId Element ID of the output display.\n",
              " * @return {!Iterable<!Object>} Iterable of next steps.\n",
              " */\n",
              "function* uploadFilesStep(inputId, outputId) {\n",
              "  const inputElement = document.getElementById(inputId);\n",
              "  inputElement.disabled = false;\n",
              "\n",
              "  const outputElement = document.getElementById(outputId);\n",
              "  outputElement.innerHTML = '';\n",
              "\n",
              "  const pickedPromise = new Promise((resolve) => {\n",
              "    inputElement.addEventListener('change', (e) => {\n",
              "      resolve(e.target.files);\n",
              "    });\n",
              "  });\n",
              "\n",
              "  const cancel = document.createElement('button');\n",
              "  inputElement.parentElement.appendChild(cancel);\n",
              "  cancel.textContent = 'Cancel upload';\n",
              "  const cancelPromise = new Promise((resolve) => {\n",
              "    cancel.onclick = () => {\n",
              "      resolve(null);\n",
              "    };\n",
              "  });\n",
              "\n",
              "  // Wait for the user to pick the files.\n",
              "  const files = yield {\n",
              "    promise: Promise.race([pickedPromise, cancelPromise]),\n",
              "    response: {\n",
              "      action: 'starting',\n",
              "    }\n",
              "  };\n",
              "\n",
              "  cancel.remove();\n",
              "\n",
              "  // Disable the input element since further picks are not allowed.\n",
              "  inputElement.disabled = true;\n",
              "\n",
              "  if (!files) {\n",
              "    return {\n",
              "      response: {\n",
              "        action: 'complete',\n",
              "      }\n",
              "    };\n",
              "  }\n",
              "\n",
              "  for (const file of files) {\n",
              "    const li = document.createElement('li');\n",
              "    li.append(span(file.name, {fontWeight: 'bold'}));\n",
              "    li.append(span(\n",
              "        `(${file.type || 'n/a'}) - ${file.size} bytes, ` +\n",
              "        `last modified: ${\n",
              "            file.lastModifiedDate ? file.lastModifiedDate.toLocaleDateString() :\n",
              "                                    'n/a'} - `));\n",
              "    const percent = span('0% done');\n",
              "    li.appendChild(percent);\n",
              "\n",
              "    outputElement.appendChild(li);\n",
              "\n",
              "    const fileDataPromise = new Promise((resolve) => {\n",
              "      const reader = new FileReader();\n",
              "      reader.onload = (e) => {\n",
              "        resolve(e.target.result);\n",
              "      };\n",
              "      reader.readAsArrayBuffer(file);\n",
              "    });\n",
              "    // Wait for the data to be ready.\n",
              "    let fileData = yield {\n",
              "      promise: fileDataPromise,\n",
              "      response: {\n",
              "        action: 'continue',\n",
              "      }\n",
              "    };\n",
              "\n",
              "    // Use a chunked sending to avoid message size limits. See b/62115660.\n",
              "    let position = 0;\n",
              "    do {\n",
              "      const length = Math.min(fileData.byteLength - position, MAX_PAYLOAD_SIZE);\n",
              "      const chunk = new Uint8Array(fileData, position, length);\n",
              "      position += length;\n",
              "\n",
              "      const base64 = btoa(String.fromCharCode.apply(null, chunk));\n",
              "      yield {\n",
              "        response: {\n",
              "          action: 'append',\n",
              "          file: file.name,\n",
              "          data: base64,\n",
              "        },\n",
              "      };\n",
              "\n",
              "      let percentDone = fileData.byteLength === 0 ?\n",
              "          100 :\n",
              "          Math.round((position / fileData.byteLength) * 100);\n",
              "      percent.textContent = `${percentDone}% done`;\n",
              "\n",
              "    } while (position < fileData.byteLength);\n",
              "  }\n",
              "\n",
              "  // All done.\n",
              "  yield {\n",
              "    response: {\n",
              "      action: 'complete',\n",
              "    }\n",
              "  };\n",
              "}\n",
              "\n",
              "scope.google = scope.google || {};\n",
              "scope.google.colab = scope.google.colab || {};\n",
              "scope.google.colab._files = {\n",
              "  _uploadFiles,\n",
              "  _uploadFilesContinue,\n",
              "};\n",
              "})(self);\n",
              "</script> "
            ]
          },
          "metadata": {}
        },
        {
          "output_type": "stream",
          "name": "stdout",
          "text": [
            "Saving tasks.csv to tasks.csv\n"
          ]
        }
      ]
    },
    {
      "cell_type": "code",
      "execution_count": null,
      "metadata": {
        "id": "Nd30FpIlN8X2"
      },
      "outputs": [],
      "source": [
        "# Load pre-existing tasks from a CSV file (if any)\n",
        "try:\n",
        "    tasks = pd.read_csv('tasks.csv')\n",
        "except FileNotFoundError:\n",
        "    pass"
      ]
    },
    {
      "cell_type": "code",
      "execution_count": null,
      "metadata": {
        "id": "uo3SesStN8c8"
      },
      "outputs": [],
      "source": [
        "# Function to save tasks to a CSV file\n",
        "def save_tasks():\n",
        "    tasks.to_csv('tasks.csv', index=False)"
      ]
    },
    {
      "cell_type": "code",
      "execution_count": null,
      "metadata": {
        "id": "ZeXinwNlPaR-"
      },
      "outputs": [],
      "source": [
        "from sklearn.feature_extraction.text import CountVectorizer\n",
        "from sklearn.naive_bayes import MultinomialNB\n",
        "from sklearn.pipeline import make_pipeline\n",
        "import pandas as pd\n",
        "\n",
        "# Assuming tasks is initialized somewhere before calling add_task\n",
        "tasks = pd.DataFrame(columns=['description', 'priority'])\n",
        "\n",
        "vectorizer = CountVectorizer()\n",
        "clf = MultinomialNB()\n",
        "model = make_pipeline(vectorizer, clf)\n",
        "\n",
        "# Function to train the task priority classifier\n",
        "def train_classifier():\n",
        "    model.fit(tasks['description'], tasks['priority'])\n",
        "\n",
        "# Function to add a task to the list\n",
        "def add_task(description, priority):\n",
        "    global tasks  # Declare tasks as a global variable\n",
        "    new_task = pd.DataFrame({'description': [description], 'priority': [priority]})\n",
        "    tasks = pd.concat([tasks, new_task], ignore_index=True)\n",
        "    train_classifier()  # Retrain the classifier after adding a new task\n",
        "    save_tasks()\n",
        "\n",
        "# Assuming you have a save_tasks function to save the tasks to a file\n",
        "def save_tasks():\n",
        "    # Add code to save tasks to a file or database\n",
        "    pass\n",
        "\n",
        "# Example usage\n",
        "add_task(\"Complete project\", \"High\")\n"
      ]
    },
    {
      "cell_type": "code",
      "execution_count": null,
      "metadata": {
        "id": "8XC6lXCVTjvB"
      },
      "outputs": [],
      "source": [
        "# Function to remove a task by description\n",
        "def remove_task(description):\n",
        "    tasks = tasks[tasks['description'] != description]\n",
        "    save_tasks()\n"
      ]
    },
    {
      "cell_type": "code",
      "execution_count": null,
      "metadata": {
        "id": "_WcJoabeTj9A"
      },
      "outputs": [],
      "source": [
        "# Function to list all tasks\n",
        "def list_tasks():\n",
        "    if tasks.empty:\n",
        "        print(\"No tasks available.\")\n",
        "    else:\n",
        "        print(tasks)"
      ]
    },
    {
      "cell_type": "code",
      "execution_count": null,
      "metadata": {
        "id": "GDk4_Xu9T4t_"
      },
      "outputs": [],
      "source": [
        "# Function to recommend a task based on machine learning\n",
        "def recommend_task():\n",
        "    if not tasks.empty:\n",
        "        # Get high-priority tasks\n",
        "        high_priority_tasks = tasks[tasks['priority'] == 'High']\n",
        "\n",
        "        if not high_priority_tasks.empty:\n",
        "            # Choose a random high-priority task\n",
        "            random_task = random.choice(high_priority_tasks['description'])\n",
        "            print(f\"Recommended task: {random_task} - Priority: High\")\n",
        "        else:\n",
        "            print(\"No high-priority tasks available for recommendation.\")\n",
        "    else:\n",
        "        print(\"No tasks available for recommendations.\")"
      ]
    },
    {
      "cell_type": "code",
      "execution_count": null,
      "metadata": {
        "colab": {
          "background_save": true,
          "base_uri": "https://localhost:8080/"
        },
        "id": "GNXkshkYT4z5",
        "outputId": "4c6438b3-238b-4c0c-8afe-426db6308961"
      },
      "outputs": [
        {
          "name": "stdout",
          "output_type": "stream",
          "text": [
            "\n",
            "Task Management App\n",
            "1. Add Task\n",
            "2. Remove Task\n",
            "3. List Tasks\n",
            "4. Recommend Task\n",
            "5. Exit\n",
            "Task added successfully.\n",
            "\n",
            "Task Management App\n",
            "1. Add Task\n",
            "2. Remove Task\n",
            "3. List Tasks\n",
            "4. Recommend Task\n",
            "5. Exit\n",
            "Task added successfully.\n",
            "\n",
            "Task Management App\n",
            "1. Add Task\n",
            "2. Remove Task\n",
            "3. List Tasks\n",
            "4. Recommend Task\n",
            "5. Exit\n",
            "        description priority\n",
            "0  Complete project     High\n",
            "1          homework     High\n",
            "2           singing      Low\n",
            "\n",
            "Task Management App\n",
            "1. Add Task\n",
            "2. Remove Task\n",
            "3. List Tasks\n",
            "4. Recommend Task\n",
            "5. Exit\n",
            "        description priority\n",
            "0  Complete project     High\n",
            "1          homework     High\n",
            "2           singing      Low\n",
            "\n",
            "Task Management App\n",
            "1. Add Task\n",
            "2. Remove Task\n",
            "3. List Tasks\n",
            "4. Recommend Task\n",
            "5. Exit\n"
          ]
        }
      ],
      "source": [
        "while True:\n",
        "    print(\"\\nTask Management App\")\n",
        "    print(\"1. Add Task\")\n",
        "    print(\"2. Remove Task\")\n",
        "    print(\"3. List Tasks\")\n",
        "    print(\"4. Recommend Task\")\n",
        "    print(\"5. Exit\")\n",
        "\n",
        "    choice = input(\"Select an option: \")\n",
        "\n",
        "    if choice == \"1\":\n",
        "        description = input(\"Enter task description: \")\n",
        "        priority = input(\"Enter task priority (Low/Medium/High): \").capitalize()\n",
        "        add_task(description, priority)\n",
        "        print(\"Task added successfully.\")\n",
        "\n",
        "    elif choice == \"2\":\n",
        "        description = input(\"Enter task description to remove: \")\n",
        "        remove_task(description)\n",
        "        print(\"Task removed successfully.\")\n",
        "\n",
        "    elif choice == \"3\":\n",
        "        list_tasks()\n",
        "\n",
        "    elif choice == \"4\":\n",
        "        recommend_task()\n",
        "\n",
        "    elif choice == \"5\":\n",
        "        print(\"Goodbye!\")\n",
        "        break\n",
        "\n",
        "    else:\n",
        "        print(\"Invalid option. Please select a valid option.\")\n"
      ]
    }
  ],
  "metadata": {
    "colab": {
      "provenance": []
    },
    "kernelspec": {
      "display_name": "Python 3",
      "name": "python3"
    },
    "language_info": {
      "name": "python"
    }
  },
  "nbformat": 4,
  "nbformat_minor": 0
}